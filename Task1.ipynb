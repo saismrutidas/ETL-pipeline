{
 "cells": [
  {
   "cell_type": "markdown",
   "id": "33814fb7-6774-4b77-b0a3-338a717b0f8f",
   "metadata": {},
   "source": [
    "Importing libraries"
   ]
  },
  {
   "cell_type": "code",
   "execution_count": 1,
   "id": "818d4ddd-007b-4a99-b682-39e14b5bc983",
   "metadata": {},
   "outputs": [],
   "source": [
    "import pandas as pd\n",
    "from sklearn.compose import ColumnTransformer\n",
    "from sklearn.pipeline import Pipeline\n",
    "from sklearn.impute import SimpleImputer\n",
    "from sklearn.preprocessing import StandardScaler, OneHotEncoder, LabelEncoder\n",
    "import os"
   ]
  },
  {
   "cell_type": "code",
   "execution_count": 2,
   "id": "61e3b143-a222-4846-8084-48e564af7e1e",
   "metadata": {},
   "outputs": [],
   "source": [
    "class ETLPipeline:\n",
    "    def __init__(self, input_path, output_path):\n",
    "        \"\"\"Initialize the pipeline with input and output file paths.\"\"\"\n",
    "        self.input_path = input_path\n",
    "        self.output_path = output_path\n",
    "        self.df = None\n",
    "\n",
    "    def extract(self):\n",
    "        \"\"\"Load and clean the data.\"\"\"\n",
    "        print(\"Extracting data...\")\n",
    "        if not os.path.exists(self.input_path):\n",
    "            raise FileNotFoundError(f\"Input file {self.input_path} not found.\")\n",
    "        self.df = pd.read_csv(self.input_path)\n",
    "        \n",
    "        # Convert TotalCharges to numeric, handling errors\n",
    "        self.df['TotalCharges'] = pd.to_numeric(self.df['TotalCharges'], errors='coerce')\n",
    "        # Drop customerID as it’s not useful for analysis\n",
    "        self.df = self.df.drop('customerID', axis=1)\n",
    "        print(\"Data extracted and cleaned.\")\n",
    "        return self\n",
    "\n",
    "    def transform(self):\n",
    "        \"\"\"Preprocess and transform the data.\"\"\"\n",
    "        print(\"Transforming data...\")\n",
    "        # Separate features and target\n",
    "        feature_cols = [col for col in self.df.columns if col != 'Churn']\n",
    "        target_col = 'Churn'\n",
    "\n",
    "        # Clean numeric columns that might be stored as strings\n",
    "        numeric_columns = ['TotalCharges', 'MonthlyCharges']\n",
    "        for col in numeric_columns:\n",
    "            if col in self.df.columns:\n",
    "                self.df[col] = pd.to_numeric(self.df[col], errors='coerce')\n",
    "                self.df[col] = self.df[col].fillna(0)\n",
    "        \n",
    "        # Your existing transformations\n",
    "        self.df['tenure_group'] = pd.cut(self.df['tenure'], bins=[0, 12, 24, 36, 48, 60, 72], \n",
    "                                        labels=['0-12', '13-24', '25-36', '37-48', '49-60', '61-72'])\n",
    "        self.df['charges_per_month'] = self.df['TotalCharges'] / self.df['tenure'].replace(0, 1)\n",
    "        self.df['total_services'] = self.df[['PhoneService', 'InternetService', 'OnlineSecurity']].eq('Yes').sum(axis=1)\n",
    "\n",
    "        # Identify numerical and categorical feature columns\n",
    "        numerical_cols = [col for col in feature_cols if self.df[col].dtype in ['int64', 'float64']]\n",
    "        categorical_cols = [col for col in feature_cols if self.df[col].dtype == 'object']\n",
    "\n",
    "        # Define transformers\n",
    "        numerical_transformer = Pipeline(steps=[\n",
    "            ('imputer', SimpleImputer(strategy='mean')),  # Handle missing values\n",
    "            ('scaler', StandardScaler())  # Scale numerical features\n",
    "        ])\n",
    "        categorical_transformer = Pipeline(steps=[\n",
    "            ('encoder', OneHotEncoder(handle_unknown='ignore', sparse_output=False))  # Encode categorical features\n",
    "        ])\n",
    "\n",
    "        # Combine transformers into a ColumnTransformer\n",
    "        preprocessor = ColumnTransformer(\n",
    "            transformers=[\n",
    "                ('num', numerical_transformer, numerical_cols),\n",
    "                ('cat', categorical_transformer, categorical_cols)\n",
    "            ]\n",
    "        )\n",
    "\n",
    "        # Transform features\n",
    "        transformed_features = preprocessor.fit_transform(self.df[feature_cols])\n",
    "        cat_feature_names = preprocessor.named_transformers_['cat']['encoder'].get_feature_names_out(categorical_cols)\n",
    "        feature_names = list(numerical_cols) + list(cat_feature_names)\n",
    "        features_df = pd.DataFrame(transformed_features, columns=feature_names)\n",
    "\n",
    "        # Encode target variable (Churn: Yes/No to 1/0)\n",
    "        le = LabelEncoder()\n",
    "        target = le.fit_transform(self.df[target_col])\n",
    "\n",
    "        # Combine transformed features and target\n",
    "        self.df = pd.concat([features_df, pd.Series(target, name='Churn')], axis=1)\n",
    "        print(\"Data transformed.\")\n",
    "        return self\n",
    "\n",
    "    def load(self):\n",
    "        \"\"\"Save the transformed data to a file.\"\"\"\n",
    "        print(\"Loading data...\")\n",
    "        os.makedirs(os.path.dirname(self.output_path), exist_ok=True)  # Ensure output directory exists\n",
    "        self.df.to_csv(self.output_path, index=False)\n",
    "        print(f\"Data saved to {self.output_path}\")\n",
    "        return self\n",
    "\n",
    "    def run(self):\n",
    "        \"\"\"Run the entire ETL process.\"\"\"\n",
    "        self.extract().transform().load()"
   ]
  },
  {
   "cell_type": "code",
   "execution_count": 3,
   "id": "23a1cb8f-df50-425c-ac8e-90a1dd946c66",
   "metadata": {},
   "outputs": [
    {
     "name": "stdout",
     "output_type": "stream",
     "text": [
      "Extracting data...\n",
      "Data extracted and cleaned.\n",
      "Transforming data...\n",
      "Data transformed.\n",
      "Loading data...\n",
      "Data saved to ./processed_data.csv\n"
     ]
    }
   ],
   "source": [
    "if __name__ == \"__main__\":\n",
    "    input_file = \"Downloads/WA_Fn-UseC_-Telco-Customer-Churn.csv\"\n",
    "    output_file = \"./processed_data.csv\"\n",
    "    pipeline = ETLPipeline(input_file, output_file)\n",
    "    pipeline.run()"
   ]
  },
  {
   "cell_type": "code",
   "execution_count": 4,
   "id": "79f92412-086e-4f24-b3ed-72d8164fb9db",
   "metadata": {},
   "outputs": [],
   "source": [
    "import pandas as pd\n",
    "import numpy as np\n",
    "\n",
    "# Load your data\n",
    "df = pd.read_csv(\"Downloads/WA_Fn-UseC_-Telco-Customer-Churn.csv\")\n",
    "\n",
    "# Clean TotalCharges column\n",
    "df['TotalCharges'] = pd.to_numeric(df['TotalCharges'], errors='coerce')\n",
    "\n",
    "# Handle missing values in TotalCharges\n",
    "# Option 1: Fill with 0\n",
    "df['TotalCharges'] = df['TotalCharges'].fillna(0)\n",
    "\n",
    "# Option 2: Fill with median (alternative)\n",
    "# df['TotalCharges'] = df['TotalCharges'].fillna(df['TotalCharges'].median())\n",
    "\n",
    "# Now create your feature engineering\n",
    "df['tenure_group'] = pd.cut(df['tenure'], bins=[0, 12, 24, 36, 48, 60, 72], \n",
    "                           labels=['0-12', '13-24', '25-36', '37-48', '49-60', '61-72'])\n",
    "df['charges_per_month'] = df['TotalCharges'] / df['tenure'].replace(0, 1)\n",
    "df['total_services'] = df[['PhoneService', 'InternetService', 'OnlineSecurity']].eq('Yes').sum(axis=1)"
   ]
  },
  {
   "cell_type": "code",
   "execution_count": 5,
   "id": "8696aeb3-60c0-47b1-9f81-41fad5f15ca9",
   "metadata": {},
   "outputs": [
    {
     "data": {
      "image/png": "[encoded data removed]",
      "text/plain": [
       "<Figure size 800x600 with 1 Axes>"
      ]
     },
     "metadata": {},
     "output_type": "display_data"
    }
   ],
   "source": [
    "import seaborn as sns\n",
    "import matplotlib.pyplot as plt\n",
    "\n",
    "# Create a summary dataframe first\n",
    "churn_by_internet = df.groupby('InternetService')['Churn'].apply(lambda x: (x == 'Yes').mean()).reset_index()\n",
    "churn_by_internet.columns = ['InternetService', 'ChurnRate']\n",
    "\n",
    "# Create the plot\n",
    "plt.figure(figsize=(8, 6))\n",
    "sns.barplot(data=churn_by_internet, x='InternetService', y='ChurnRate')\n",
    "plt.title('Churn Rate by Internet Service')\n",
    "plt.ylabel('Churn Rate')\n",
    "plt.show()"
   ]
  },
  {
   "cell_type": "code",
   "execution_count": 6,
   "id": "06368883-68f5-4f4c-a342-36fdcf0ac0c3",
   "metadata": {},
   "outputs": [
    {
     "name": "stdout",
     "output_type": "stream",
     "text": [
      "Requirement already satisfied: dash in c:\\users\\saism\\anaconda3\\lib\\site-packages (3.1.1)\n",
      "Requirement already satisfied: Flask<3.2,>=1.0.4 in c:\\users\\saism\\anaconda3\\lib\\site-packages (from dash) (3.0.3)\n",
      "Requirement already satisfied: Werkzeug<3.2 in c:\\users\\saism\\anaconda3\\lib\\site-packages (from dash) (3.0.3)\n",
      "Requirement already satisfied: plotly>=5.0.0 in c:\\users\\saism\\anaconda3\\lib\\site-packages (from dash) (5.24.1)\n",
      "Requirement already satisfied: importlib-metadata in c:\\users\\saism\\anaconda3\\lib\\site-packages (from dash) (7.0.1)\n",
      "Requirement already satisfied: typing-extensions>=4.1.1 in c:\\users\\saism\\anaconda3\\lib\\site-packages (from dash) (4.11.0)\n",
      "Requirement already satisfied: requests in c:\\users\\saism\\anaconda3\\lib\\site-packages (from dash) (2.32.3)\n",
      "Requirement already satisfied: retrying in c:\\users\\saism\\anaconda3\\lib\\site-packages (from dash) (1.4.0)\n",
      "Requirement already satisfied: nest-asyncio in c:\\users\\saism\\anaconda3\\lib\\site-packages (from dash) (1.6.0)\n",
      "Requirement already satisfied: setuptools in c:\\users\\saism\\anaconda3\\lib\\site-packages (from dash) (75.1.0)\n",
      "Requirement already satisfied: Jinja2>=3.1.2 in c:\\users\\saism\\anaconda3\\lib\\site-packages (from Flask<3.2,>=1.0.4->dash) (3.1.4)\n",
      "Requirement already satisfied: itsdangerous>=2.1.2 in c:\\users\\saism\\anaconda3\\lib\\site-packages (from Flask<3.2,>=1.0.4->dash) (2.2.0)\n",
      "Requirement already satisfied: click>=8.1.3 in c:\\users\\saism\\anaconda3\\lib\\site-packages (from Flask<3.2,>=1.0.4->dash) (8.1.7)\n",
      "Requirement already satisfied: blinker>=1.6.2 in c:\\users\\saism\\anaconda3\\lib\\site-packages (from Flask<3.2,>=1.0.4->dash) (1.6.2)\n",
      "Requirement already satisfied: tenacity>=6.2.0 in c:\\users\\saism\\anaconda3\\lib\\site-packages (from plotly>=5.0.0->dash) (8.2.3)\n",
      "Requirement already satisfied: packaging in c:\\users\\saism\\anaconda3\\lib\\site-packages (from plotly>=5.0.0->dash) (24.1)\n",
      "Requirement already satisfied: MarkupSafe>=2.1.1 in c:\\users\\saism\\anaconda3\\lib\\site-packages (from Werkzeug<3.2->dash) (2.1.3)\n",
      "Requirement already satisfied: zipp>=0.5 in c:\\users\\saism\\anaconda3\\lib\\site-packages (from importlib-metadata->dash) (3.17.0)\n",
      "Requirement already satisfied: charset-normalizer<4,>=2 in c:\\users\\saism\\anaconda3\\lib\\site-packages (from requests->dash) (3.3.2)\n",
      "Requirement already satisfied: idna<4,>=2.5 in c:\\users\\saism\\anaconda3\\lib\\site-packages (from requests->dash) (3.7)\n",
      "Requirement already satisfied: urllib3<3,>=1.21.1 in c:\\users\\saism\\anaconda3\\lib\\site-packages (from requests->dash) (2.2.3)\n",
      "Requirement already satisfied: certifi>=2017.4.17 in c:\\users\\saism\\anaconda3\\lib\\site-packages (from requests->dash) (2025.4.26)\n",
      "Requirement already satisfied: colorama in c:\\users\\saism\\anaconda3\\lib\\site-packages (from click>=8.1.3->Flask<3.2,>=1.0.4->dash) (0.4.6)\n"
     ]
    },
    {
     "data": {
      "text/html": [
       "\n",
       "        <iframe\n",
       "            width=\"100%\"\n",
       "            height=\"650\"\n",
       "            src=\"http://127.0.0.1:8050/\"\n",
       "            frameborder=\"0\"\n",
       "            allowfullscreen\n",
       "            \n",
       "        ></iframe>\n",
       "        "
      ],
      "text/plain": [
       "<IPython.lib.display.IFrame at 0x1fab7766000>"
      ]
     },
     "metadata": {},
     "output_type": "display_data"
    }
   ],
   "source": [
    "!pip install dash\n",
    "\n",
    "from dash import Dash, dcc, html\n",
    "from dash.dependencies import Input, Output\n",
    "import plotly.express as px\n",
    "\n",
    "app = Dash(__name__)\n",
    "\n",
    "app.layout = html.Div([\n",
    "    dcc.Dropdown(id='feature', options=[{'label': col, 'value': col} for col in ['InternetService', 'Contract']],\n",
    "                 value='InternetService'),\n",
    "    dcc.Graph(id='churn-bar')\n",
    "])\n",
    "\n",
    "@app.callback(\n",
    "    Output('churn-bar', 'figure'), \n",
    "    Input('feature', 'value')\n",
    ")\n",
    "def update_graph(feature):\n",
    "    fig = px.bar(df, x=feature, color='Churn', barmode='group', title=f'Churn by {feature}')\n",
    "    return fig\n",
    "\n",
    "app.run(debug=True)"
   ]
  },
  {
   "cell_type": "code",
   "execution_count": null,
   "id": "086cd63e-c413-420c-a732-779e80c38818",
   "metadata": {},
   "outputs": [],
   "source": []
  }
 ],
 "metadata": {
  "kernelspec": {
   "display_name": "Python [conda env:base] *",
   "language": "python",
   "name": "conda-base-py"
  },
  "language_info": {
   "codemirror_mode": {
    "name": "ipython",
    "version": 3
   },
   "file_extension": ".py",
   "mimetype": "text/x-python",
   "name": "python",
   "nbconvert_exporter": "python",
   "pygments_lexer": "ipython3",
   "version": "3.12.7"
  }
 },
 "nbformat": 4,
 "nbformat_minor": 5
}
